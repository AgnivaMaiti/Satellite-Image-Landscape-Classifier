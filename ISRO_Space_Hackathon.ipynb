{
  "nbformat": 4,
  "nbformat_minor": 0,
  "metadata": {
    "colab": {
      "provenance": []
    },
    "kernelspec": {
      "name": "python3",
      "display_name": "Python 3"
    },
    "language_info": {
      "name": "python"
    }
  },
  "cells": [
    {
      "cell_type": "markdown",
      "source": [
        "# 1. Dataset Download and Preparation"
      ],
      "metadata": {
        "id": "M1pDEDRLiFSe"
      }
    },
    {
      "cell_type": "code",
      "execution_count": null,
      "metadata": {
        "id": "pmBb275ohoMp"
      },
      "outputs": [],
      "source": [
        "import os\n",
        "import zipfile\n",
        "import requests\n",
        "\n",
        "datasets = {\n",
        "    'satellite_images': 'https://www.kaggle.com/datasets/arjuntyagi25/satellite-images/download',\n",
        "}\n",
        "\n",
        "def download_and_unzip(url, extract_to):\n",
        "    response = requests.get(url)\n",
        "    zip_path = 'dataset.zip'\n",
        "    with open(zip_path, 'wb') as f:\n",
        "        f.write(response.content)\n",
        "    with zipfile.ZipFile(zip_path, 'r') as zip_ref:\n",
        "        zip_ref.extractall(extract_to)\n",
        "    os.remove(zip_path)\n",
        "\n",
        "download_and_unzip(datasets['satellite_images'], '/content/satellite_images')\n"
      ]
    },
    {
      "cell_type": "code",
      "source": [
        "import os\n",
        "import cv2\n",
        "import numpy as np\n",
        "\n",
        "def preprocess_images(src_dir, dest_dir, target_size=(150, 150)):\n",
        "    if not os.path.exists(dest_dir):\n",
        "        os.makedirs(dest_dir)\n",
        "\n",
        "    for filename in os.listdir(src_dir):\n",
        "        img_path = os.path.join(src_dir, filename)\n",
        "        img = cv2.imread(img_path)\n",
        "        img = cv2.resize(img, target_size)\n",
        "        dest_path = os.path.join(dest_dir, filename)\n",
        "        cv2.imwrite(dest_path, img)\n",
        "\n",
        "preprocess_images('/content/satellite_images', '/content/preprocessed_images')\n"
      ],
      "metadata": {
        "id": "orZ3mRwchs4Q"
      },
      "execution_count": null,
      "outputs": []
    },
    {
      "cell_type": "markdown",
      "source": [
        "\n",
        "# 2. Model Training"
      ],
      "metadata": {
        "id": "wccCDY6hh-DK"
      }
    },
    {
      "cell_type": "code",
      "source": [
        "from tensorflow.keras.preprocessing.image import ImageDataGenerator\n",
        "from tensorflow.keras.applications import VGG16\n",
        "from tensorflow.keras.models import Model\n",
        "from tensorflow.keras.layers import Dense, Flatten, Dropout\n",
        "from tensorflow.keras.optimizers import Adam\n",
        "from tensorflow.keras.callbacks import EarlyStopping\n",
        "\n",
        "train_dir = '/content/preprocessed_images_train'\n",
        "val_dir = '/content/preprocessed_images_test'\n",
        "\n",
        "train_datagen = ImageDataGenerator(\n",
        "    rescale=1./255,\n",
        "    rotation_range=40,\n",
        "    width_shift_range=0.2,\n",
        "    height_shift_range=0.2,\n",
        "    shear_range=0.2,\n",
        "    zoom_range=0.2,\n",
        "    horizontal_flip=True,\n",
        "    fill_mode='nearest'\n",
        ")\n",
        "\n",
        "val_datagen = ImageDataGenerator(rescale=1./255)\n",
        "\n",
        "train_generator = train_datagen.flow_from_directory(\n",
        "    train_dir,\n",
        "    target_size=(150, 150),\n",
        "    batch_size=32,\n",
        "    class_mode='categorical'\n",
        ")\n",
        "\n",
        "val_generator = val_datagen.flow_from_directory(\n",
        "    val_dir,\n",
        "    target_size=(150, 150),\n",
        "    batch_size=32,\n",
        "    class_mode='categorical'\n",
        ")\n",
        "\n",
        "base_model = VGG16(weights='imagenet', include_top=False, input_shape=(150, 150, 3))\n",
        "x = base_model.output\n",
        "x = Flatten()(x)\n",
        "x = Dense(128, activation='relu')(x)\n",
        "x = Dropout(0.5)(x)\n",
        "x = Dense(64, activation='relu')(x)\n",
        "x = Dropout(0.5)(x)\n",
        "predictions = Dense(len(train_generator.class_indices), activation='softmax')(x)\n",
        "\n",
        "model = Model(inputs=base_model.input, outputs=predictions)\n",
        "\n",
        "for layer in base_model.layers:\n",
        "    layer.trainable = False\n",
        "\n",
        "model.compile(optimizer=Adam(learning_rate=0.0001), loss='categorical_crossentropy', metrics=['accuracy'])\n",
        "\n",
        "early_stopping = EarlyStopping(monitor='val_loss', patience=5, restore_best_weights=True)\n",
        "\n",
        "history = model.fit(\n",
        "    train_generator,\n",
        "    epochs=50,\n",
        "    validation_data=val_generator,\n",
        "    callbacks=[early_stopping]\n",
        ")\n",
        "\n",
        "model.save('/content/sample_data/your_model.keras')\n"
      ],
      "metadata": {
        "id": "Ibg7SjN7hztc"
      },
      "execution_count": null,
      "outputs": []
    },
    {
      "cell_type": "markdown",
      "source": [
        "# 3. Model Testing and Prediction"
      ],
      "metadata": {
        "id": "oJ_stNtEiJog"
      }
    },
    {
      "cell_type": "code",
      "source": [
        "import cv2\n",
        "import numpy as np\n",
        "from tensorflow.keras.models import load_model\n",
        "from tensorflow.keras.preprocessing import image\n",
        "from tensorflow.keras.applications.vgg16 import preprocess_input\n",
        "from google.colab.patches import cv2_imshow\n",
        "\n",
        "model = load_model('/content/sample_data/your_model.keras')\n",
        "class_labels = [ 'beach', 'ice', 'mars', 'moon', 'mountain', 'ocean', 'river']\n",
        "\n",
        "input_image_path = '/content/India_BMNG.jpg'\n",
        "img = cv2.imread(input_image_path)\n",
        "height, width, _ = img.shape\n",
        "\n",
        "patch_size = (150, 150)\n",
        "stride = 150\n",
        "\n",
        "for y in range(0, height - patch_size[1] + 1, stride):\n",
        "    for x in range(0, width - patch_size[0] + 1, stride):\n",
        "        patch = img[y:y + patch_size[1], x:x + patch_size[0]]\n",
        "\n",
        "        patch_img = cv2.resize(patch, (150, 150))\n",
        "        patch_img = image.img_to_array(patch_img)\n",
        "        patch_img = np.expand_dims(patch_img, axis=0)\n",
        "        patch_img = preprocess_input(patch_img)\n",
        "\n",
        "        predictions = model.predict(patch_img)\n",
        "        class_idx = np.argmax(predictions[0])\n",
        "        class_label = class_labels[class_idx]\n",
        "\n",
        "        if class_label not in ['mars', 'moon']:\n",
        "            color = (0, 255, 0)\n",
        "            label = f'{class_label}'\n",
        "            cv2.rectangle(img, (x, y), (x + patch_size[0], y + patch_size[1]), color, 2)\n",
        "            cv2.putText(img, label, (x, y - 10), cv2.FONT_HERSHEY_SIMPLEX, 0.9, color, 2)\n",
        "\n",
        "output_image_path = '/content/annotated_image.jpg'\n",
        "cv2.imwrite(output_image_path, img)\n",
        "cv2_imshow(img)\n"
      ],
      "metadata": {
        "id": "Zzww5wK1iMzZ"
      },
      "execution_count": null,
      "outputs": []
    }
  ]
}